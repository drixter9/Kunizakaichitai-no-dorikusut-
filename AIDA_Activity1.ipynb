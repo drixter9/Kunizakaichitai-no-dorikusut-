{
  "nbformat": 4,
  "nbformat_minor": 0,
  "metadata": {
    "colab": {
      "name": "AIDA_Activity1.ipynb",
      "provenance": [],
      "collapsed_sections": [],
      "toc_visible": true,
      "include_colab_link": true
    },
    "kernelspec": {
      "name": "python3",
      "display_name": "Python 3"
    }
  },
  "cells": [
    {
      "cell_type": "markdown",
      "metadata": {
        "id": "view-in-github",
        "colab_type": "text"
      },
      "source": [
        "<a href=\"https://colab.research.google.com/github/drixter9/Kunizakaichitai-no-dorikusut-/blob/main/AIDA_Activity1.ipynb\" target=\"_parent\"><img src=\"https://colab.research.google.com/assets/colab-badge.svg\" alt=\"Open In Colab\"/></a>"
      ]
    },
    {
      "cell_type": "markdown",
      "metadata": {
        "id": "W3AQ3IXUu3jZ"
      },
      "source": [
        "![image](https://developers.redhat.com/blog/wp-content/uploads/2014/09/python-logo.png)"
      ]
    },
    {
      "cell_type": "markdown",
      "metadata": {
        "id": "Gq7I59mMoKYc"
      },
      "source": [
        "# **Activity 1 - Welcome to Python Fundamentals**\r\n",
        "---\r\n",
        "\r\n",
        "We are 国境地帯のドリクスタ! <br>\r\n",
        "Castillo, James A. <br>\r\n",
        "Hernandez, Drixter V. <br>\r\n",
        "Medina, Daryll John O. <br>\r\n",
        "Salazar, Angelica Mhay C. "
      ]
    },
    {
      "cell_type": "markdown",
      "metadata": {
        "id": "2hUiMbRkJHPb"
      },
      "source": [
        "## Variables and Data Types\r\n",
        "---\r\n",
        "* Variable in python is just like other programming laguage they vary, a memory location that you can store and change in future. \r\n",
        "\r\n",
        "* Data types in python has many data types and these are int, float, string, list and etc. Usually in other programming language you need to put the data types in before the variable but in python you can just declare a variable without adding a data type."
      ]
    },
    {
      "cell_type": "code",
      "metadata": {
        "id": "S6wffC6YJ10O"
      },
      "source": [
        "# Initializing string varible\r\n",
        "character_name = \"Drixter\""
      ],
      "execution_count": null,
      "outputs": []
    },
    {
      "cell_type": "code",
      "metadata": {
        "id": "gZhZz4q9NpTo"
      },
      "source": [
        "print(\"there is a man named \" + character_name)"
      ],
      "execution_count": null,
      "outputs": []
    },
    {
      "cell_type": "code",
      "metadata": {
        "id": "NdSdpL1DQBLy"
      },
      "source": [
        "# Initializing int varible\r\n",
        "num_1 = 10\r\n",
        "num_2 = 20"
      ],
      "execution_count": null,
      "outputs": []
    },
    {
      "cell_type": "code",
      "metadata": {
        "id": "-QArfLUkRL-9"
      },
      "source": [
        "print(str(num1) + \" is the perfect score in the exam\")"
      ],
      "execution_count": null,
      "outputs": []
    },
    {
      "cell_type": "code",
      "metadata": {
        "id": "SQUj1rJrmbha"
      },
      "source": [
        "word_1 = \"Python\""
      ],
      "execution_count": null,
      "outputs": []
    },
    {
      "cell_type": "code",
      "metadata": {
        "id": "1FqB0HEUqUQr"
      },
      "source": [
        "print(word_1)\r\n",
        "print(word_1 [0])\r\n",
        "print(word_1 [1:4])\r\n",
        "print(word_1 [2:])\r\n",
        "print(word_1 * 4)\r\n",
        "type (word_1)"
      ],
      "execution_count": null,
      "outputs": []
    },
    {
      "cell_type": "code",
      "metadata": {
        "id": "2iEjecVjrf_a"
      },
      "source": [
        "x = [1, 2, 3, 4, 5, 6, 7, 8]\r\n",
        "y = 5\r\n",
        "z = \"Python\""
      ],
      "execution_count": null,
      "outputs": []
    },
    {
      "cell_type": "code",
      "metadata": {
        "colab": {
          "base_uri": "https://localhost:8080/"
        },
        "id": "rygK3bZArnAg",
        "outputId": "364ee519-9c75-449b-c5fc-de808a302f9c"
      },
      "source": [
        "# Specifying the data type of the variable\r\n",
        "type(x)"
      ],
      "execution_count": null,
      "outputs": [
        {
          "output_type": "execute_result",
          "data": {
            "text/plain": [
              "list"
            ]
          },
          "metadata": {
            "tags": []
          },
          "execution_count": 34
        }
      ]
    },
    {
      "cell_type": "code",
      "metadata": {
        "colab": {
          "base_uri": "https://localhost:8080/"
        },
        "id": "H-hdIFdurpqb",
        "outputId": "29b0c029-96f1-4d76-8da3-a2ea0c3c5791"
      },
      "source": [
        "type(y)"
      ],
      "execution_count": null,
      "outputs": [
        {
          "output_type": "execute_result",
          "data": {
            "text/plain": [
              "int"
            ]
          },
          "metadata": {
            "tags": []
          },
          "execution_count": 35
        }
      ]
    },
    {
      "cell_type": "code",
      "metadata": {
        "colab": {
          "base_uri": "https://localhost:8080/"
        },
        "id": "qI4fD5uRrrhP",
        "outputId": "d0914411-97d4-4212-8435-ad281b704425"
      },
      "source": [
        "type(z)"
      ],
      "execution_count": null,
      "outputs": [
        {
          "output_type": "execute_result",
          "data": {
            "text/plain": [
              "str"
            ]
          },
          "metadata": {
            "tags": []
          },
          "execution_count": 36
        }
      ]
    },
    {
      "cell_type": "markdown",
      "metadata": {
        "id": "JnMWd2MaJMUz"
      },
      "source": [
        "## Operations\r\n",
        "---\r\n",
        "These are the operations in Python Programming Language.\r\n",
        "\r\n",
        "\r\n",
        "\r\n",
        "\r\n",
        "\r\n",
        "\r\n",
        "\r\n",
        "\r\n"
      ]
    },
    {
      "cell_type": "markdown",
      "metadata": {
        "id": "CxQ-bkimLNEV"
      },
      "source": [
        "### Arithmetic\r\n",
        "*   Arithemetic operation in pyhton is just like in other programming language there are Addition, Subtraction, Multiplication, Division, Modulus, Exponential and Floor Division but the operator use for exponential in python is ** and for Floor division is //.\r\n"
      ]
    },
    {
      "cell_type": "code",
      "metadata": {
        "id": "k2dnh1T7v2Mj"
      },
      "source": [
        "num_1 = 5\r\n",
        "num_2 = 10\r\n",
        "num_3 = 15\r\n",
        "num_4 = 20\r\n"
      ],
      "execution_count": null,
      "outputs": []
    },
    {
      "cell_type": "code",
      "metadata": {
        "colab": {
          "base_uri": "https://localhost:8080/"
        },
        "id": "G5hqBsPbv5Yy",
        "outputId": "91e72cee-0241-4a20-9eea-23e71c3b393f"
      },
      "source": [
        "# Addition\r\n",
        "output = num_1 + num_2\r\n",
        "print(output)"
      ],
      "execution_count": null,
      "outputs": [
        {
          "output_type": "stream",
          "text": [
            "15\n"
          ],
          "name": "stdout"
        }
      ]
    },
    {
      "cell_type": "code",
      "metadata": {
        "colab": {
          "base_uri": "https://localhost:8080/"
        },
        "id": "401FlCrkv5Ti",
        "outputId": "b8a6a745-ede0-49fd-99c1-bb346fa04aa0"
      },
      "source": [
        "# Subtraction\r\n",
        "output = num_3 - num_1\r\n",
        "print(output)"
      ],
      "execution_count": null,
      "outputs": [
        {
          "output_type": "stream",
          "text": [
            "10\n"
          ],
          "name": "stdout"
        }
      ]
    },
    {
      "cell_type": "code",
      "metadata": {
        "colab": {
          "base_uri": "https://localhost:8080/"
        },
        "id": "ElxbzNfUv5Ah",
        "outputId": "7966e7b0-38d0-46a8-b6dd-27de438e4a70"
      },
      "source": [
        "# Multiplication\r\n",
        "output = num_4 * num_2\r\n",
        "print(output)"
      ],
      "execution_count": null,
      "outputs": [
        {
          "output_type": "stream",
          "text": [
            "200\n"
          ],
          "name": "stdout"
        }
      ]
    },
    {
      "cell_type": "code",
      "metadata": {
        "colab": {
          "base_uri": "https://localhost:8080/"
        },
        "id": "FZV0DcRQv45z",
        "outputId": "d9f727f7-df39-49d1-c12a-11f6f84390bc"
      },
      "source": [
        "# Division\r\n",
        "output = num_2 / num_1\r\n",
        "print(output)"
      ],
      "execution_count": null,
      "outputs": [
        {
          "output_type": "stream",
          "text": [
            "2.0\n"
          ],
          "name": "stdout"
        }
      ]
    },
    {
      "cell_type": "code",
      "metadata": {
        "colab": {
          "base_uri": "https://localhost:8080/"
        },
        "id": "tXkMSY-8v4yn",
        "outputId": "445c4642-1de7-429b-c67b-1a561c7b6ed2"
      },
      "source": [
        "# Modulus\r\n",
        "output = num_4 % num_3\r\n",
        "print(output)"
      ],
      "execution_count": null,
      "outputs": [
        {
          "output_type": "stream",
          "text": [
            "5\n"
          ],
          "name": "stdout"
        }
      ]
    },
    {
      "cell_type": "code",
      "metadata": {
        "colab": {
          "base_uri": "https://localhost:8080/"
        },
        "id": "m8Apy-37v4kn",
        "outputId": "be7befee-cb16-4569-dda2-e9f816dcbd61"
      },
      "source": [
        "# Exponentiation\r\n",
        "output = num_3 ** num_2\r\n",
        "print(output)"
      ],
      "execution_count": null,
      "outputs": [
        {
          "output_type": "stream",
          "text": [
            "576650390625\n"
          ],
          "name": "stdout"
        }
      ]
    },
    {
      "cell_type": "code",
      "metadata": {
        "colab": {
          "base_uri": "https://localhost:8080/"
        },
        "id": "Nj1-vO7iwA7r",
        "outputId": "6bdb4e78-c96d-4d14-afbc-0ffdeb6db094"
      },
      "source": [
        "# Floor division\r\n",
        "output = num_4 // num_1\r\n",
        "print(output)"
      ],
      "execution_count": null,
      "outputs": [
        {
          "output_type": "stream",
          "text": [
            "4\n"
          ],
          "name": "stdout"
        }
      ]
    },
    {
      "cell_type": "markdown",
      "metadata": {
        "id": "eVBMcyrpLets"
      },
      "source": [
        "### Assignment Operations\r\n"
      ]
    },
    {
      "cell_type": "markdown",
      "metadata": {
        "id": "EjZyfTaxLhzk"
      },
      "source": [
        "### Comparators\r\n"
      ]
    },
    {
      "cell_type": "markdown",
      "metadata": {
        "id": "MxwfVsBcLmMR"
      },
      "source": [
        "### Logical\r\n"
      ]
    },
    {
      "cell_type": "markdown",
      "metadata": {
        "id": "v93MJBDOLn1P"
      },
      "source": [
        "### Input Output\r\n"
      ]
    },
    {
      "cell_type": "code",
      "metadata": {
        "id": "Yl-Pc_XEJk5K"
      },
      "source": [
        "# Basic input\r\n",
        "name = input('Enter a name: ')\r\n",
        "n = 14\r\n",
        "name, n"
      ],
      "execution_count": null,
      "outputs": []
    },
    {
      "cell_type": "code",
      "metadata": {
        "id": "svWbe9FarGWR"
      },
      "source": [
        "# Specifying data type of an input\r\n",
        "n = int(input('Enter First number: '))\r\n",
        "f = float(input('Enter second number:'))\r\n",
        "n, f"
      ],
      "execution_count": null,
      "outputs": []
    },
    {
      "cell_type": "code",
      "metadata": {
        "id": "pUrrL8sYrIIP"
      },
      "source": [
        "# Basic output\r\n",
        "print ('Hello kunai!')"
      ],
      "execution_count": null,
      "outputs": []
    },
    {
      "cell_type": "code",
      "metadata": {
        "id": "jJJmbe8WrLFm"
      },
      "source": [
        "# Input and output\r\n",
        "name = input ('Enter your name: ')\r\n",
        "print ('Your name is ', name)"
      ],
      "execution_count": null,
      "outputs": []
    },
    {
      "cell_type": "code",
      "metadata": {
        "id": "nSxPox8xrMsg"
      },
      "source": [
        "# sep and end function\r\n",
        "# sep as seperator between values\r\n",
        "# end defaults as a new line and prints after printing all the value\r\n",
        "print ('Aykee', 'Drixter', 'Daryll', 'Inaki', sep=' and ', end=' transform!')"
      ],
      "execution_count": null,
      "outputs": []
    },
    {
      "cell_type": "code",
      "metadata": {
        "id": "zHnx_baCrOXV"
      },
      "source": [
        "# eval function, automatically evaluate given string\r\n",
        "eval ('10+30')"
      ],
      "execution_count": null,
      "outputs": []
    },
    {
      "cell_type": "code",
      "metadata": {
        "id": "EOUlB4HzrP9V"
      },
      "source": [
        "# Formatting\r\n",
        "name = 'AIDA'\r\n",
        "n = 58025\r\n",
        "print ('Our next class is {} with section code {}.'.format(name,n))\r\n",
        "\r\n",
        "# We can also specify values based on their index number\r\n",
        "print ('Our next class is {1} with section code {0}.'.format(name,n))"
      ],
      "execution_count": null,
      "outputs": []
    },
    {
      "cell_type": "code",
      "metadata": {
        "id": "jxyauJyCrRke"
      },
      "source": [
        "# Format a number based on their decimal place\r\n",
        "n = 14.129945\r\n",
        "print ('The price of that ballpen is {:.2f}.'.format(n))\r\n",
        "print ('However, the exact price is {:.5f}.'.format(n))"
      ],
      "execution_count": null,
      "outputs": []
    },
    {
      "cell_type": "code",
      "metadata": {
        "id": "nxfVoQnjrTUw"
      },
      "source": [
        "# Simple program\r\n",
        "name = input(\"What is your name? \")\r\n",
        "age = int(input(\"How about your age? \"))\r\n",
        "year = (2020-age) + 100\r\n",
        "print(\"You are \",name, \" aged \",age, end='. ')\r\n",
        "print('You will turn 100 in the year ', year, end='.')"
      ],
      "execution_count": null,
      "outputs": []
    },
    {
      "cell_type": "markdown",
      "metadata": {
        "id": "32IVTDflJTpT"
      },
      "source": [
        "## Looping Statements\r\n",
        "---\r\n"
      ]
    },
    {
      "cell_type": "markdown",
      "metadata": {
        "id": "jjGh_6pJLs5w"
      },
      "source": [
        "### While"
      ]
    },
    {
      "cell_type": "code",
      "metadata": {
        "id": "3qfsL96vt-_o"
      },
      "source": [
        "# While loop basic representation\r\n",
        "count = 0\r\n",
        "while count <= 3:\r\n",
        "  print ('Number ', count)\r\n",
        "  count = count + 1\r\n",
        "\r\n",
        "# the program stops at count = 4, because while statement 4 <= 3 is no longer true.\r\n",
        "# incrementing is important or else the loop will go on forever"
      ],
      "execution_count": null,
      "outputs": []
    },
    {
      "cell_type": "code",
      "metadata": {
        "id": "tFgc0Fc3025R"
      },
      "source": [
        "# While loop with else\r\n",
        "count = 3\r\n",
        "while count >= 1 :\r\n",
        "  print(count)\r\n",
        "  count -= 1\r\n",
        "else:\r\n",
        "  print(\"Stop!\")"
      ],
      "execution_count": null,
      "outputs": []
    },
    {
      "cell_type": "code",
      "metadata": {
        "id": "mjt5Yewk04jl"
      },
      "source": [
        "# Continue statement\r\n",
        "count = 5\r\n",
        "while count >= 1 :\r\n",
        "  count -= 1\r\n",
        "  if count == 2:\r\n",
        "    print ('This is a special number', count)\r\n",
        "    continue\r\n",
        "  print(count)"
      ],
      "execution_count": null,
      "outputs": []
    },
    {
      "cell_type": "code",
      "metadata": {
        "id": "jIOFFJae057T"
      },
      "source": [
        "# Break statement\r\n",
        "count = 1\r\n",
        "while count <= 10 :\r\n",
        "  count += 1.5\r\n",
        "  if count == 8.5:\r\n",
        "    print (count, 'is a special number and it will break the program')\r\n",
        "    break\r\n",
        "  print(count)"
      ],
      "execution_count": null,
      "outputs": []
    },
    {
      "cell_type": "markdown",
      "metadata": {
        "id": "StSX4wRlLunz"
      },
      "source": [
        "### For"
      ]
    },
    {
      "cell_type": "code",
      "metadata": {
        "id": "2f5DGNrmJlhy"
      },
      "source": [
        ""
      ],
      "execution_count": null,
      "outputs": []
    },
    {
      "cell_type": "markdown",
      "metadata": {
        "id": "c0N_szfGJX37"
      },
      "source": [
        "## Flow Control\r\n",
        "---"
      ]
    },
    {
      "cell_type": "markdown",
      "metadata": {
        "id": "bktwd_2tLxen"
      },
      "source": [
        "### Condition Statements"
      ]
    },
    {
      "cell_type": "code",
      "metadata": {
        "id": "hA11LvYIJmG9"
      },
      "source": [
        ""
      ],
      "execution_count": null,
      "outputs": []
    },
    {
      "cell_type": "markdown",
      "metadata": {
        "id": "jeT5iasgJgGD"
      },
      "source": [
        "## Functions\r\n",
        "---"
      ]
    },
    {
      "cell_type": "code",
      "metadata": {
        "id": "U1F0ClHUnMpB"
      },
      "source": [
        "# A dictionary containing the translations of Morse Code\r\n",
        "morseCodeTranslation = {'A': '.-', 'B': '-...', 'C': '-.-.',\r\n",
        "                   'D': '-..', 'E': '.',\r\n",
        "                   'F': '..-.', 'G': '--.', 'H': '....',\r\n",
        "                   'I': '..', 'J': '.---', 'K': '-.-',\r\n",
        "                   'L': '.-..', 'M': '--', 'N': '-.',\r\n",
        "                   'O': '---', 'P': '.--.', 'Q': '--.-',\r\n",
        "                   'R': '.-.', 'S': '...', 'T': '-',\r\n",
        "                   'U': '..-', 'V': '...-', 'W': '.--',\r\n",
        "                   'X': '-..-', 'Y': '-.--', 'Z': '--..',\r\n",
        "                   '1': '.----', '2': '..---', '3': '...--',\r\n",
        "                   '4': '....-', '5': '.....', '6': '-....',\r\n",
        "                   '7': '--...', '8': '---..', '9': '----.',\r\n",
        "                   '0': '-----', ', ': '--..--', '.': '.-.-.-',\r\n",
        "                   '?': '..--..', '/': '-..-.', '-': '-....-',\r\n",
        "                   '(': '-.--.', ')': '-.--.-'}\r\n",
        "\r\n",
        "# A function that converts the Original Message from Morse Code to Alphanumeric Characters\r\n",
        "def transformToText(originalMessageInMorseCode):\r\n",
        "    originalMessageInMorseCode += ' '\r\n",
        "    transformToText = ''\r\n",
        "    whiteSpace = ''\r\n",
        "    for letter in originalMessageInMorseCode:\r\n",
        "        if (letter != ' '):\r\n",
        "            i = 0\r\n",
        "            whiteSpace += letter\r\n",
        "        else:\r\n",
        "            i += 1\r\n",
        "            if i == 2:\r\n",
        "                transformToText += ' '\r\n",
        "            else:\r\n",
        "                transformToText += list(morseCodeTranslation.keys())[list(morseCodeTranslation.values()).index(whiteSpace)]\r\n",
        "                whiteSpace = ''\r\n",
        "    return transformToText\r\n",
        "\r\n",
        "# The Code Block Below is used to execute the function above\r\n",
        "# cont is used for the looping statement\r\n",
        "cont = \"1\"\r\n",
        "while cont == \"1\":\r\n",
        "    originalMessageInMorseCode = input(\"Insert Code Here: \")\r\n",
        "    result = transformToText(originalMessageInMorseCode)\r\n",
        "    print(result)\r\n",
        "    choice = input(\"Decrypt More Statements? \\n[0] No \\n[1] Yes \\nChoice: \")\r\n",
        "    if choice == \"0\":\r\n",
        "        cont = \"0\"\r\n",
        "    elif choice == \"1\":\r\n",
        "        cont = \"1\"\r\n",
        "    else:\r\n",
        "        print(\"Invalid Option\")"
      ],
      "execution_count": null,
      "outputs": []
    },
    {
      "cell_type": "markdown",
      "metadata": {
        "id": "exl1_GhYL0wv"
      },
      "source": [
        "### Lambda Functions"
      ]
    },
    {
      "cell_type": "code",
      "metadata": {
        "id": "FkKsPiDPJqg8"
      },
      "source": [
        "# Imports the random module\r\n",
        "import random\r\n",
        "\r\n",
        "# Calculates the square of a random number\r\n",
        "square = lambda x: x ** 2\r\n",
        "number1 = (random.randint(0,10))\r\n",
        "print(number1)\r\n",
        "print(square(number1))\r\n",
        "\r\n",
        "# Calculates the cube of a random number\r\n",
        "cube = lambda x: x ** 3\r\n",
        "number2 = (random.randint(0,10))\r\n",
        "print(number2)\r\n",
        "print(square(number2))\r\n"
      ],
      "execution_count": null,
      "outputs": []
    },
    {
      "cell_type": "markdown",
      "metadata": {
        "id": "8IhNAO4JIgtW"
      },
      "source": [
        "## Grade calculator"
      ]
    },
    {
      "cell_type": "code",
      "metadata": {
        "id": "lcdJz4BQJxOy"
      },
      "source": [
        "'''\r\n",
        "Create a grade calculator that computes for the semestral grade of a course.\r\n",
        "Students could type their names, the name of the course, then their prelim,\r\n",
        "midterm, and final grade.\r\n",
        "The program should print the semestral grade in 2 decimal points and should\r\n",
        "display the following emojis depending on the situation:\r\n",
        "happy - when grade is greater than 70.00\r\n",
        "laughing - when grade is exactly 70.00\r\n",
        "sad - when grade is below 70.00\r\n",
        "'''\r\n",
        "happy, lol, sad = \"\\U0001F600\",\"\\U0001F923\",\"\\U0001F619\""
      ],
      "execution_count": null,
      "outputs": []
    },
    {
      "cell_type": "code",
      "metadata": {
        "colab": {
          "base_uri": "https://localhost:8080/"
        },
        "id": "TQU3GoWEgUHt",
        "outputId": "e7d6954f-0070-4ff7-8b16-4e14ab4aa681"
      },
      "source": [
        "# Grade calculator code\r\n",
        "\r\n",
        "student_name= input(\"Student Name: \")\r\n",
        "course= input(\"Course: \")\r\n",
        "\r\n",
        "# Function of validating the input number \r\n",
        "def validation(): \r\n",
        "  while True:\r\n",
        "     grade = float(input(\"Grade: \"))\r\n",
        "     if (grade >=101): # Validate if the number is greater or equal to 101\r\n",
        "      print(\"Input number less than 101..\")\r\n",
        "     else:\r\n",
        "      return grade # return number to the variabe\r\n",
        "  \r\n",
        "# Validation if the input is float\r\n",
        "while True: \r\n",
        "  try: # run the validation function in Prelim input\r\n",
        "    print(\"Prelims\")\r\n",
        "    prelim_grade= validation()\r\n",
        "    break \r\n",
        "  except ValueError: # Display if the input is not float\r\n",
        "    print(\"Invalid input!\")\r\n",
        "\r\n",
        "while True:\r\n",
        "  try: \r\n",
        "    print(\"Midterm\")\r\n",
        "    midterm_grade= validation()\r\n",
        "    break\r\n",
        "  except ValueError: \r\n",
        "    print(\"Invalid input!\") \r\n",
        "\r\n",
        "while True:\r\n",
        "  try:\r\n",
        "    print(\"Finals\")\r\n",
        "    final_grade= validation()\r\n",
        "    break\r\n",
        "  except ValueError\r\n",
        "    print(\"Invalid input!\")\r\n",
        "\r\n",
        "# Computation of Semestral Grade\r\n",
        "semestral_grade = float((prelim_grade*0.3)+(midterm_grade*0.3)+(final_grade*0.4)) \r\n",
        "\r\n",
        "# Condition equivalent emojis of Semestral Grade\r\n",
        "if (semestral_grade > 70): \r\n",
        "  equivalent = \"\\U0001F606\"\r\n",
        "elif (semestral_grade == 70):\r\n",
        "  equivalent =\"\\U0001F923\"\r\n",
        "else:\r\n",
        "  equivalent = \"\\U0001F631\"\r\n",
        "\r\n",
        "print(\"{} Semestral Grade is: {:.2f} {}\".format(student_name,semestral_grade,equivalent))"
      ],
      "execution_count": null,
      "outputs": [
        {
          "output_type": "stream",
          "text": [
            "Student Name: Drixter\n",
            "Course: BS Cpe\n",
            "Prelim\n",
            "Grade: 20\n",
            "Midterm\n",
            "Grade: 100\n",
            "Finals\n",
            "Grade: 20\n",
            "Drixter Semestral Grade is: 44.00 😱\n"
          ],
          "name": "stdout"
        }
      ]
    },
    {
      "cell_type": "markdown",
      "metadata": {
        "id": "TRVMLFgxqiqv"
      },
      "source": [
        "# References\r\n",
        "[1] Programiz (2021). *Python Input, Output and Import*. Available: [[Python I/O]](https://www.programiz.com/python-programming/input-output-import) <br>\r\n",
        "[2] W3 Schools (2021). *Python While Loops*. Available: [[Python While Loops]](https://www.w3schools.com/python/python_while_loops.asp)"
      ]
    }
  ]
}