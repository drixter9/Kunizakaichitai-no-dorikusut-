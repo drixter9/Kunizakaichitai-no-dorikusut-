{
  "nbformat": 4,
  "nbformat_minor": 0,
  "metadata": {
    "colab": {
      "name": "AIDA_Activity1.ipynb",
      "provenance": [],
      "collapsed_sections": [],
      "toc_visible": true,
      "include_colab_link": true
    },
    "kernelspec": {
      "name": "python3",
      "display_name": "Python 3"
    }
  },
  "cells": [
    {
      "cell_type": "markdown",
      "metadata": {
        "id": "view-in-github",
        "colab_type": "text"
      },
      "source": [
        "<a href=\"https://colab.research.google.com/github/drixter9/Kunizakaichitai-no-dorikusut-/blob/main/AIDA_Activity1.ipynb\" target=\"_parent\"><img src=\"https://colab.research.google.com/assets/colab-badge.svg\" alt=\"Open In Colab\"/></a>"
      ]
    },
    {
      "cell_type": "markdown",
      "metadata": {
        "id": "W3AQ3IXUu3jZ"
      },
      "source": [
        "![image](https://developers.redhat.com/blog/wp-content/uploads/2014/09/python-logo.png)"
      ]
    },
    {
      "cell_type": "markdown",
      "metadata": {
        "id": "Gq7I59mMoKYc"
      },
      "source": [
        "# **Activity 1 - Welcome to Python Fundamentals**\r\n",
        "---\r\n",
        "\r\n",
        "© 2021 国境地帯のドリクスタ! <br>\r\n",
        "Castillo, James A.<br>\r\n",
        "Hernandez, Drixter V. <br>\r\n",
        "Medina, Daryll John O. <br>\r\n",
        "Salazar, Angelica Mhay C.\r\n",
        "\r\n",
        "This activity revolves around the fundamentals of Python programming. It's goal is to help students be familiarized with the syntax and algorithms used in the said programming language. This activity also highlights the differences amongst programming languages like C++, C# and Java to Python and how easy and short it is to create a program algorithm. \r\n",
        "\r\n",
        "The activity utilized Google Colab to create a Jupyter Notebook to make it more formal and informative. This activity also covers the basic Python Fundamentals like Variables and Data Types, Operations, Looping Statements, Flow Control, Functions and Grade Calculator.\r\n"
      ]
    },
    {
      "cell_type": "markdown",
      "metadata": {
        "id": "2hUiMbRkJHPb"
      },
      "source": [
        "## Variables and Data Types\r\n",
        "---\r\n",
        "* Variable in Python is just like other programming laguage they vary, a memory location that you can store and change in future. \r\n",
        "\r\n",
        "* Data types in Python has many data types and these are int, float, string, list and etc. Usually in other programming language you need to put the data types in before the variable but in Python you can just declare a variable without adding a data type."
      ]
    },
    {
      "cell_type": "code",
      "metadata": {
        "id": "S6wffC6YJ10O"
      },
      "source": [
        "# Initializing string varible\r\n",
        "character_name = \"Drixter\""
      ],
      "execution_count": null,
      "outputs": []
    },
    {
      "cell_type": "code",
      "metadata": {
        "id": "gZhZz4q9NpTo"
      },
      "source": [
        "print(\"there is a man named \" + character_name)"
      ],
      "execution_count": null,
      "outputs": []
    },
    {
      "cell_type": "code",
      "metadata": {
        "id": "NdSdpL1DQBLy"
      },
      "source": [
        "# Initializing int varible\r\n",
        "num_1 = 10\r\n",
        "num_2 = 20"
      ],
      "execution_count": null,
      "outputs": []
    },
    {
      "cell_type": "code",
      "metadata": {
        "id": "-QArfLUkRL-9"
      },
      "source": [
        "print(str(num1) + \" is the perfect score in the exam\")"
      ],
      "execution_count": null,
      "outputs": []
    },
    {
      "cell_type": "code",
      "metadata": {
        "id": "SQUj1rJrmbha"
      },
      "source": [
        "word_1 = \"Python\""
      ],
      "execution_count": null,
      "outputs": []
    },
    {
      "cell_type": "code",
      "metadata": {
        "id": "1FqB0HEUqUQr"
      },
      "source": [
        "print(word_1)\r\n",
        "print(word_1 [0])\r\n",
        "print(word_1 [1:4])\r\n",
        "print(word_1 [2:])\r\n",
        "print(word_1 * 4)\r\n",
        "type (word_1)"
      ],
      "execution_count": null,
      "outputs": []
    },
    {
      "cell_type": "code",
      "metadata": {
        "id": "2iEjecVjrf_a"
      },
      "source": [
        "x = [1, 2, 3, 4, 5, 6, 7, 8]\r\n",
        "y = 5\r\n",
        "z = \"Python\""
      ],
      "execution_count": null,
      "outputs": []
    },
    {
      "cell_type": "code",
      "metadata": {
        "colab": {
          "base_uri": "https://localhost:8080/"
        },
        "id": "rygK3bZArnAg",
        "outputId": "364ee519-9c75-449b-c5fc-de808a302f9c"
      },
      "source": [
        "# Specifying the data type of the variable\r\n",
        "type(x)"
      ],
      "execution_count": null,
      "outputs": [
        {
          "output_type": "execute_result",
          "data": {
            "text/plain": [
              "list"
            ]
          },
          "metadata": {
            "tags": []
          },
          "execution_count": 34
        }
      ]
    },
    {
      "cell_type": "code",
      "metadata": {
        "colab": {
          "base_uri": "https://localhost:8080/"
        },
        "id": "H-hdIFdurpqb",
        "outputId": "29b0c029-96f1-4d76-8da3-a2ea0c3c5791"
      },
      "source": [
        "type(y)"
      ],
      "execution_count": null,
      "outputs": [
        {
          "output_type": "execute_result",
          "data": {
            "text/plain": [
              "int"
            ]
          },
          "metadata": {
            "tags": []
          },
          "execution_count": 35
        }
      ]
    },
    {
      "cell_type": "code",
      "metadata": {
        "colab": {
          "base_uri": "https://localhost:8080/"
        },
        "id": "qI4fD5uRrrhP",
        "outputId": "d0914411-97d4-4212-8435-ad281b704425"
      },
      "source": [
        "type(z)"
      ],
      "execution_count": null,
      "outputs": [
        {
          "output_type": "execute_result",
          "data": {
            "text/plain": [
              "str"
            ]
          },
          "metadata": {
            "tags": []
          },
          "execution_count": 36
        }
      ]
    },
    {
      "cell_type": "markdown",
      "metadata": {
        "id": "JnMWd2MaJMUz"
      },
      "source": [
        "## Operations\r\n",
        "---\r\n",
        "* Operators in Python programming language are special symbols that perform computation on the values and variables, mostly arithmetic and logical are the standard uses in Python. This jupyter notebook contains the different types of operators in python. \r\n",
        "\r\n",
        "\r\n",
        "\r\n",
        "\r\n",
        "\r\n",
        "\r\n",
        "\r\n",
        "\r\n"
      ]
    },
    {
      "cell_type": "markdown",
      "metadata": {
        "id": "CxQ-bkimLNEV"
      },
      "source": [
        "### Arithmetic\r\n",
        "*   Arithemetic operation in pyhton is just like in other programming language there are Addition, Subtraction, Multiplication, Division, Modulus, Exponential and Floor Division but the operator use for exponential in Python is ** and for Floor division is //.\r\n"
      ]
    },
    {
      "cell_type": "code",
      "metadata": {
        "id": "k2dnh1T7v2Mj"
      },
      "source": [
        "num_1 = 5\r\n",
        "num_2 = 10\r\n",
        "num_3 = 15\r\n",
        "num_4 = 20\r\n"
      ],
      "execution_count": null,
      "outputs": []
    },
    {
      "cell_type": "code",
      "metadata": {
        "colab": {
          "base_uri": "https://localhost:8080/"
        },
        "id": "G5hqBsPbv5Yy",
        "outputId": "91e72cee-0241-4a20-9eea-23e71c3b393f"
      },
      "source": [
        "# Addition\r\n",
        "output = num_1 + num_2\r\n",
        "print(output)"
      ],
      "execution_count": null,
      "outputs": [
        {
          "output_type": "stream",
          "text": [
            "15\n"
          ],
          "name": "stdout"
        }
      ]
    },
    {
      "cell_type": "code",
      "metadata": {
        "colab": {
          "base_uri": "https://localhost:8080/"
        },
        "id": "401FlCrkv5Ti",
        "outputId": "b8a6a745-ede0-49fd-99c1-bb346fa04aa0"
      },
      "source": [
        "# Subtraction\r\n",
        "output = num_3 - num_1\r\n",
        "print(output)"
      ],
      "execution_count": null,
      "outputs": [
        {
          "output_type": "stream",
          "text": [
            "10\n"
          ],
          "name": "stdout"
        }
      ]
    },
    {
      "cell_type": "code",
      "metadata": {
        "colab": {
          "base_uri": "https://localhost:8080/"
        },
        "id": "ElxbzNfUv5Ah",
        "outputId": "7966e7b0-38d0-46a8-b6dd-27de438e4a70"
      },
      "source": [
        "# Multiplication\r\n",
        "output = num_4 * num_2\r\n",
        "print(output)"
      ],
      "execution_count": null,
      "outputs": [
        {
          "output_type": "stream",
          "text": [
            "200\n"
          ],
          "name": "stdout"
        }
      ]
    },
    {
      "cell_type": "code",
      "metadata": {
        "colab": {
          "base_uri": "https://localhost:8080/"
        },
        "id": "FZV0DcRQv45z",
        "outputId": "d9f727f7-df39-49d1-c12a-11f6f84390bc"
      },
      "source": [
        "# Division\r\n",
        "output = num_2 / num_1\r\n",
        "print(output)"
      ],
      "execution_count": null,
      "outputs": [
        {
          "output_type": "stream",
          "text": [
            "2.0\n"
          ],
          "name": "stdout"
        }
      ]
    },
    {
      "cell_type": "code",
      "metadata": {
        "colab": {
          "base_uri": "https://localhost:8080/"
        },
        "id": "tXkMSY-8v4yn",
        "outputId": "445c4642-1de7-429b-c67b-1a561c7b6ed2"
      },
      "source": [
        "# Modulus\r\n",
        "output = num_4 % num_3\r\n",
        "print(output)"
      ],
      "execution_count": null,
      "outputs": [
        {
          "output_type": "stream",
          "text": [
            "5\n"
          ],
          "name": "stdout"
        }
      ]
    },
    {
      "cell_type": "code",
      "metadata": {
        "colab": {
          "base_uri": "https://localhost:8080/"
        },
        "id": "m8Apy-37v4kn",
        "outputId": "be7befee-cb16-4569-dda2-e9f816dcbd61"
      },
      "source": [
        "# Exponentiation\r\n",
        "output = num_3 ** num_2\r\n",
        "print(output)"
      ],
      "execution_count": null,
      "outputs": [
        {
          "output_type": "stream",
          "text": [
            "576650390625\n"
          ],
          "name": "stdout"
        }
      ]
    },
    {
      "cell_type": "code",
      "metadata": {
        "colab": {
          "base_uri": "https://localhost:8080/"
        },
        "id": "Nj1-vO7iwA7r",
        "outputId": "6bdb4e78-c96d-4d14-afbc-0ffdeb6db094"
      },
      "source": [
        "# Floor division\r\n",
        "output = num_4 // num_1\r\n",
        "print(output)"
      ],
      "execution_count": null,
      "outputs": [
        {
          "output_type": "stream",
          "text": [
            "4\n"
          ],
          "name": "stdout"
        }
      ]
    },
    {
      "cell_type": "markdown",
      "metadata": {
        "id": "eVBMcyrpLets"
      },
      "source": [
        "### Assignment Operations\r\n",
        "*   Assignment Operation in Python is just like other programming language uses artimetic operations and assign the variables equal to the answer.\r\n",
        "\r\n"
      ]
    },
    {
      "cell_type": "code",
      "metadata": {
        "id": "a96_ikQD6vx7"
      },
      "source": [
        "a = 0\r\n",
        "b = 12\r\n",
        "c = 24\r\n",
        "d = 2"
      ],
      "execution_count": null,
      "outputs": []
    },
    {
      "cell_type": "code",
      "metadata": {
        "colab": {
          "base_uri": "https://localhost:8080/"
        },
        "id": "k7skU4Dy6vui",
        "outputId": "f853f778-f7be-4170-ea36-70fbe1ae2ba9"
      },
      "source": [
        "# Adds the right operand with the left operand.\r\n",
        "a += b\r\n",
        "print(a)"
      ],
      "execution_count": null,
      "outputs": [
        {
          "output_type": "stream",
          "text": [
            "12\n"
          ],
          "name": "stdout"
        }
      ]
    },
    {
      "cell_type": "code",
      "metadata": {
        "colab": {
          "base_uri": "https://localhost:8080/"
        },
        "id": "a9DC-tAj6vrq",
        "outputId": "8fb567de-b1d4-4e9a-bef2-47c5c9427d43"
      },
      "source": [
        "# Subtracts the right operand with the left operand.\r\n",
        "a -= c\r\n",
        "print(a)"
      ],
      "execution_count": null,
      "outputs": [
        {
          "output_type": "stream",
          "text": [
            "264\n"
          ],
          "name": "stdout"
        }
      ]
    },
    {
      "cell_type": "code",
      "metadata": {
        "colab": {
          "base_uri": "https://localhost:8080/"
        },
        "id": "bEsdQJQj6vox",
        "outputId": "184f5b8c-bf85-4299-d714-2a2e2c2fa01f"
      },
      "source": [
        "# Multiplies the right operand with the left operand.\r\n",
        "a *= c\r\n",
        "print(a)"
      ],
      "execution_count": null,
      "outputs": [
        {
          "output_type": "stream",
          "text": [
            "288\n"
          ],
          "name": "stdout"
        }
      ]
    },
    {
      "cell_type": "code",
      "metadata": {
        "colab": {
          "base_uri": "https://localhost:8080/"
        },
        "id": "OMN-GXng6vl9",
        "outputId": "137861c5-6037-404b-a9d5-5c463d3dbc1d"
      },
      "source": [
        "# Divides left operand with the right operand.\r\n",
        "a /= b\r\n",
        "print(a)"
      ],
      "execution_count": null,
      "outputs": [
        {
          "output_type": "stream",
          "text": [
            "22.0\n"
          ],
          "name": "stdout"
        }
      ]
    },
    {
      "cell_type": "code",
      "metadata": {
        "colab": {
          "base_uri": "https://localhost:8080/"
        },
        "id": "DVbMpAln6vjJ",
        "outputId": "25a55f90-934b-4ffd-8a32-9ac3ab638c16"
      },
      "source": [
        "# Performs the exponential power calculation on the operators.\r\n",
        "a **= d\r\n",
        "print(a)\r\n"
      ],
      "execution_count": null,
      "outputs": [
        {
          "output_type": "stream",
          "text": [
            "484.0\n"
          ],
          "name": "stdout"
        }
      ]
    },
    {
      "cell_type": "code",
      "metadata": {
        "colab": {
          "base_uri": "https://localhost:8080/"
        },
        "id": "dH_q1SFp6vgN",
        "outputId": "fc3c72ee-60c1-481b-a5fd-e4891609bade"
      },
      "source": [
        "# Performs the floor division on the operators.\r\n",
        "a //= c\r\n",
        "print(a)\r\n"
      ],
      "execution_count": null,
      "outputs": [
        {
          "output_type": "stream",
          "text": [
            "20.0\n"
          ],
          "name": "stdout"
        }
      ]
    },
    {
      "cell_type": "markdown",
      "metadata": {
        "id": "EjZyfTaxLhzk"
      },
      "source": [
        "### Comparators\r\n",
        "* Comparators in Python are uses to compare varaibles to know if it is True or False."
      ]
    },
    {
      "cell_type": "code",
      "metadata": {
        "id": "MilfwNhR-Q5y"
      },
      "source": [
        "value_1 = 1\r\n",
        "value_2 = 2\r\n",
        "value_3 = 4\r\n",
        "value_4 = 8\r\n",
        "value_5 = 10\r\n",
        "legit_value = 1"
      ],
      "execution_count": null,
      "outputs": []
    },
    {
      "cell_type": "code",
      "metadata": {
        "colab": {
          "base_uri": "https://localhost:8080/"
        },
        "id": "4MLsTzR6-Q2C",
        "outputId": "433e5a65-20fb-4414-8dfc-4247ddac5bb2"
      },
      "source": [
        "# Two values are equal then the condition is true, if not then false.\r\n",
        "output = legit_value == value_1\r\n",
        "print(output)"
      ],
      "execution_count": null,
      "outputs": [
        {
          "output_type": "stream",
          "text": [
            "True\n"
          ],
          "name": "stdout"
        }
      ]
    },
    {
      "cell_type": "code",
      "metadata": {
        "colab": {
          "base_uri": "https://localhost:8080/"
        },
        "id": "yp43fO_z-Qyq",
        "outputId": "2ec48e05-f182-46f1-ed29-c6ebe3cf1770"
      },
      "source": [
        "# Two values are not equal then the condition is true, if equal then false.\r\n",
        "output = value_1 != value_2\r\n",
        "print(output)"
      ],
      "execution_count": null,
      "outputs": [
        {
          "output_type": "stream",
          "text": [
            "True\n"
          ],
          "name": "stdout"
        }
      ]
    },
    {
      "cell_type": "code",
      "metadata": {
        "colab": {
          "base_uri": "https://localhost:8080/"
        },
        "id": "UpZEYx5T-Quw",
        "outputId": "d56a938f-fad7-4955-cc84-4c0eab314b13"
      },
      "source": [
        "# The value of the left is greater than the right then the condition is true, if not then false\r\n",
        "output = value_3 > value_4\r\n",
        "print(output)"
      ],
      "execution_count": null,
      "outputs": [
        {
          "output_type": "stream",
          "text": [
            "False\n"
          ],
          "name": "stdout"
        }
      ]
    },
    {
      "cell_type": "code",
      "metadata": {
        "colab": {
          "base_uri": "https://localhost:8080/"
        },
        "id": "p0ijFHlJ-Xq-",
        "outputId": "f526413a-ba5e-4332-cd9d-86ba3348cbec"
      },
      "source": [
        "# The value of the left is less than the right then the condition is true, if not then false\r\n",
        "output = value_5 < value_3\r\n",
        "print(output)"
      ],
      "execution_count": null,
      "outputs": [
        {
          "output_type": "stream",
          "text": [
            "False\n"
          ],
          "name": "stdout"
        }
      ]
    },
    {
      "cell_type": "code",
      "metadata": {
        "colab": {
          "base_uri": "https://localhost:8080/"
        },
        "id": "7Fmfgnyz-YQQ",
        "outputId": "d2cbc95a-a262-48d2-89c5-0a72252f3559"
      },
      "source": [
        "# The value of the left is less than or equal to the right then the condition is true, if not then false\r\n",
        "output = value_2 <= value_4\r\n",
        "print(output)"
      ],
      "execution_count": null,
      "outputs": [
        {
          "output_type": "stream",
          "text": [
            "True\n"
          ],
          "name": "stdout"
        }
      ]
    },
    {
      "cell_type": "code",
      "metadata": {
        "colab": {
          "base_uri": "https://localhost:8080/"
        },
        "id": "aAiXG-IL-Qj0",
        "outputId": "ce28bf90-f942-4b1c-a52f-da3511701e02"
      },
      "source": [
        "# The value of the left is greater than or equal to the right then the condition is true, if not then false\r\n",
        "output = value_3 >= value_1\r\n",
        "print(output)"
      ],
      "execution_count": null,
      "outputs": [
        {
          "output_type": "stream",
          "text": [
            "True\n"
          ],
          "name": "stdout"
        }
      ]
    },
    {
      "cell_type": "markdown",
      "metadata": {
        "id": "MxwfVsBcLmMR"
      },
      "source": [
        "### Logical\r\n",
        "*   Logical Operation in Python uses the aritmetic and logical computation like AND, OR, NOT and etc.\r\n",
        "\r\n",
        "\r\n",
        "\r\n"
      ]
    },
    {
      "cell_type": "code",
      "metadata": {
        "colab": {
          "base_uri": "https://localhost:8080/"
        },
        "id": "kgD2y3fKEAdF",
        "outputId": "aaa55d14-f40f-4c87-cbb4-770b3cf87e08"
      },
      "source": [
        "# Evaluates if both value is true, if not then false\r\n",
        "output = value_1 is value_2\r\n",
        "print(output)"
      ],
      "execution_count": null,
      "outputs": [
        {
          "output_type": "stream",
          "text": [
            "False\n"
          ],
          "name": "stdout"
        }
      ]
    },
    {
      "cell_type": "code",
      "metadata": {
        "colab": {
          "base_uri": "https://localhost:8080/"
        },
        "id": "1m6RrskgEAap",
        "outputId": "29c12811-23b8-449b-d444-c2264291e0d6"
      },
      "source": [
        "# Evaluates if both value is false, if not then true\r\n",
        "output = value_1 is not  value_2\r\n",
        "print(output)"
      ],
      "execution_count": null,
      "outputs": [
        {
          "output_type": "stream",
          "text": [
            "True\n"
          ],
          "name": "stdout"
        }
      ]
    },
    {
      "cell_type": "code",
      "metadata": {
        "id": "gUBAfDRpEAX2"
      },
      "source": [
        "a = True\r\n",
        "b = False"
      ],
      "execution_count": null,
      "outputs": []
    },
    {
      "cell_type": "markdown",
      "metadata": {
        "id": "IQ0Xg1iEybqM"
      },
      "source": [
        "![AND.PNG](data:image/png;base64,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)"
      ]
    },
    {
      "cell_type": "code",
      "metadata": {
        "colab": {
          "base_uri": "https://localhost:8080/"
        },
        "id": "XjjZFYfWEAU3",
        "outputId": "384022f6-608e-41bc-e889-a5af0960887d"
      },
      "source": [
        "# AND Operator\r\n",
        "output = a and b\r\n",
        "print(output)"
      ],
      "execution_count": null,
      "outputs": [
        {
          "output_type": "stream",
          "text": [
            "False\n"
          ],
          "name": "stdout"
        }
      ]
    },
    {
      "cell_type": "markdown",
      "metadata": {
        "id": "aDGXDzG6ylpj"
      },
      "source": [
        "![Or.PNG](data:image/png;base64,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)"
      ]
    },
    {
      "cell_type": "code",
      "metadata": {
        "colab": {
          "base_uri": "https://localhost:8080/"
        },
        "id": "R3LPtz_REASI",
        "outputId": "ea47f939-63a5-4df8-ddfb-3f99360bf909"
      },
      "source": [
        "# OR Operator\r\n",
        "output = a or b\r\n",
        "print(output)"
      ],
      "execution_count": null,
      "outputs": [
        {
          "output_type": "stream",
          "text": [
            "True\n"
          ],
          "name": "stdout"
        }
      ]
    },
    {
      "cell_type": "markdown",
      "metadata": {
        "id": "O0cOonGNzQU9"
      },
      "source": [
        "![image.png](data:image/png;base64,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)"
      ]
    },
    {
      "cell_type": "code",
      "metadata": {
        "colab": {
          "base_uri": "https://localhost:8080/"
        },
        "id": "Jnet9zRlEAPS",
        "outputId": "7f0d4613-905d-4328-eae8-a059f1aecdcd"
      },
      "source": [
        "# NOT Operator\r\n",
        "output = not(a and b)\r\n",
        "print(output)"
      ],
      "execution_count": null,
      "outputs": [
        {
          "output_type": "stream",
          "text": [
            "True\n"
          ],
          "name": "stdout"
        }
      ]
    },
    {
      "cell_type": "markdown",
      "metadata": {
        "id": "l6rDrV68zT7k"
      },
      "source": [
        "![Xor.PNG](data:image/png;base64,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)"
      ]
    },
    {
      "cell_type": "code",
      "metadata": {
        "colab": {
          "base_uri": "https://localhost:8080/"
        },
        "id": "e2qemiAUEALV",
        "outputId": "4928eb9f-2839-4519-8198-75994bed690f"
      },
      "source": [
        "# XOR Operator\r\n",
        "output = not(a and b) or (a and not b)\r\n",
        "print(output)"
      ],
      "execution_count": null,
      "outputs": [
        {
          "output_type": "stream",
          "text": [
            "True\n"
          ],
          "name": "stdout"
        }
      ]
    },
    {
      "cell_type": "markdown",
      "metadata": {
        "id": "v93MJBDOLn1P"
      },
      "source": [
        "### Input Output\r\n",
        "*  Input Output in Python it is much more easier to understand unlike other programming language and there are many ways to do it.\r\n"
      ]
    },
    {
      "cell_type": "code",
      "metadata": {
        "id": "M3uqbPD82A-i"
      },
      "source": [
        "'''\r\n",
        "These block of code is based on Programiz and was modified by 国境地帯のドリクスタ.\r\n",
        "'''"
      ],
      "execution_count": null,
      "outputs": []
    },
    {
      "cell_type": "code",
      "metadata": {
        "id": "Yl-Pc_XEJk5K"
      },
      "source": [
        "# Basic input\r\n",
        "name = input('Enter a name: ')\r\n",
        "n = 14\r\n",
        "name, n"
      ],
      "execution_count": null,
      "outputs": []
    },
    {
      "cell_type": "code",
      "metadata": {
        "id": "svWbe9FarGWR"
      },
      "source": [
        "# Specifying data type of an input\r\n",
        "n = int(input('Enter First number: '))\r\n",
        "f = float(input('Enter second number:'))\r\n",
        "n, f"
      ],
      "execution_count": null,
      "outputs": []
    },
    {
      "cell_type": "code",
      "metadata": {
        "id": "pUrrL8sYrIIP"
      },
      "source": [
        "# Basic output\r\n",
        "print ('Hello kunai!')"
      ],
      "execution_count": null,
      "outputs": []
    },
    {
      "cell_type": "code",
      "metadata": {
        "id": "jJJmbe8WrLFm"
      },
      "source": [
        "# Input and output\r\n",
        "name = input ('Enter your name: ')\r\n",
        "print ('Your name is ', name)"
      ],
      "execution_count": null,
      "outputs": []
    },
    {
      "cell_type": "code",
      "metadata": {
        "id": "nSxPox8xrMsg"
      },
      "source": [
        "# sep and end function\r\n",
        "'''\r\n",
        "sep -- as seperator between values\r\n",
        "end --  defaults as a new line and prints after printing all the value\r\n",
        "'''\r\n",
        "\r\n",
        "print ('Aykee', 'Drixter', 'Daryll', 'Iñaki', sep=' and ', end=' transform!')"
      ],
      "execution_count": null,
      "outputs": []
    },
    {
      "cell_type": "code",
      "metadata": {
        "id": "zHnx_baCrOXV"
      },
      "source": [
        "# eval function, automatically evaluate given string\r\n",
        "eval ('10+30')"
      ],
      "execution_count": null,
      "outputs": []
    },
    {
      "cell_type": "code",
      "metadata": {
        "id": "EOUlB4HzrP9V"
      },
      "source": [
        "# Formatting\r\n",
        "name = 'AIDA'\r\n",
        "n = 58025\r\n",
        "print ('Our next class is {} with section code {}.'.format(name,n))\r\n",
        "\r\n",
        "# We can also specify values based on their index number\r\n",
        "print ('Our next class is {1} with section code {0}.'.format(name,n))"
      ],
      "execution_count": null,
      "outputs": []
    },
    {
      "cell_type": "code",
      "metadata": {
        "id": "jxyauJyCrRke"
      },
      "source": [
        "# Format a number based on their decimal place\r\n",
        "n = 14.129945\r\n",
        "print ('The price of that ballpen is {:.2f}.'.format(n))\r\n",
        "print ('However, the exact price is {:.5f}.'.format(n))"
      ],
      "execution_count": null,
      "outputs": []
    },
    {
      "cell_type": "code",
      "metadata": {
        "colab": {
          "base_uri": "https://localhost:8080/"
        },
        "id": "U33tHfCP07ws",
        "outputId": "98e85efd-a34f-4a6c-99ef-e6c3bef3cd27"
      },
      "source": [
        "# Format a number based on their decimal place using percentage\r\n",
        "n = 8545.56518419\r\n",
        "print ('The price of that cellphone is {:.4%}.'.format(n))\r\n",
        "print ('However, the exact price is {:.1%}.'.format(n))"
      ],
      "execution_count": null,
      "outputs": [
        {
          "output_type": "stream",
          "text": [
            "The price of that cellphone is 854556.5184%.\n",
            "However, the exact price is 854556.5%.\n"
          ],
          "name": "stdout"
        }
      ]
    },
    {
      "cell_type": "code",
      "metadata": {
        "id": "nxfVoQnjrTUw"
      },
      "source": [
        "# Simple program\r\n",
        "name = input(\"What is your name? \")\r\n",
        "age = int(input(\"How about your age? \"))\r\n",
        "year = (2020-age) + 100\r\n",
        "print(\"You are \",name, \" aged \",age, end='. ')\r\n",
        "print('You will turn 100 in the year ', year, end='.')"
      ],
      "execution_count": null,
      "outputs": []
    },
    {
      "cell_type": "markdown",
      "metadata": {
        "id": "32IVTDflJTpT"
      },
      "source": [
        "## Looping Statements\r\n",
        "---\r\n",
        "* Looping Statements in Python does not use curly braces but increment to indicate that the code is inside of the looping statements.\r\n"
      ]
    },
    {
      "cell_type": "markdown",
      "metadata": {
        "id": "jjGh_6pJLs5w"
      },
      "source": [
        "### While"
      ]
    },
    {
      "cell_type": "code",
      "metadata": {
        "id": "CKJbwfu_2Y65"
      },
      "source": [
        "'''\r\n",
        "These block of code is based on W3Schools and was modified by 国境地帯のドリクスタ.\r\n",
        "'''"
      ],
      "execution_count": null,
      "outputs": []
    },
    {
      "cell_type": "code",
      "metadata": {
        "id": "3qfsL96vt-_o"
      },
      "source": [
        "# While loop basic representation\r\n",
        "count = 0\r\n",
        "while count <= 3:\r\n",
        "  print ('Number ', count)\r\n",
        "  count += 1\r\n",
        "\r\n",
        "'''\r\n",
        "the program stops at count = 4, because while statement 4 <= 3 is no longer true.\r\n",
        "incrementing is important or else the loop will go on forever\r\n",
        "'''"
      ],
      "execution_count": null,
      "outputs": []
    },
    {
      "cell_type": "code",
      "metadata": {
        "id": "tFgc0Fc3025R"
      },
      "source": [
        "# While loop with else\r\n",
        "count = 3\r\n",
        "while count >= 1 :\r\n",
        "  print(count)\r\n",
        "  count -= 1\r\n",
        "else:\r\n",
        "  print(\"Stop!\")"
      ],
      "execution_count": null,
      "outputs": []
    },
    {
      "cell_type": "code",
      "metadata": {
        "id": "mjt5Yewk04jl"
      },
      "source": [
        "# Continue statement\r\n",
        "'''\r\n",
        "continue function -- skip the rest of the code and go with the next iteration\r\n",
        "'''\r\n",
        "count = 5\r\n",
        "while count >= 1 :\r\n",
        "  count -= 1\r\n",
        "  if count == 2:\r\n",
        "    print ('This is a special number', count)\r\n",
        "    continue\r\n",
        "  print(count)"
      ],
      "execution_count": null,
      "outputs": []
    },
    {
      "cell_type": "code",
      "metadata": {
        "id": "jIOFFJae057T"
      },
      "source": [
        "# Break statement\r\n",
        "'''\r\n",
        "break function -- terminates and exits the loop\r\n",
        "'''\r\n",
        "count = 1\r\n",
        "while count <= 10 :\r\n",
        "  count += 1.5\r\n",
        "  if count == 8.5:\r\n",
        "    print (count, 'is a special number and it will break the program')\r\n",
        "    break\r\n",
        "  print(count)"
      ],
      "execution_count": null,
      "outputs": []
    },
    {
      "cell_type": "markdown",
      "metadata": {
        "id": "StSX4wRlLunz"
      },
      "source": [
        "### For"
      ]
    },
    {
      "cell_type": "code",
      "metadata": {
        "id": "2f5DGNrmJlhy",
        "colab": {
          "base_uri": "https://localhost:8080/"
        },
        "outputId": "cabc1eab-960e-4ab4-915f-779fe825938b"
      },
      "source": [
        "# Basic for loop\r\n",
        "friends = ['Aykee', 'Daryll', 'Drixter', 'Iñaki']\r\n",
        "for tao in friends:\r\n",
        "  print('Kunai ', tao)"
      ],
      "execution_count": null,
      "outputs": [
        {
          "output_type": "stream",
          "text": [
            "Kunai  Aykee\n",
            "Kunai  Daryll\n",
            "Kunai  Drixter\n",
            "Kunai  Iñaki\n"
          ],
          "name": "stdout"
        }
      ]
    },
    {
      "cell_type": "code",
      "metadata": {
        "id": "WRGt-qR8420s"
      },
      "source": [
        "# Basic for loop with break\r\n",
        "friends = ['Aykee', 'Daryll', 'Drixter', 'Iñaki']\r\n",
        "for friend in friends:\r\n",
        "  if friend == 'Drixter':\r\n",
        "    break\r\n",
        "  print('Kunai ', friend)"
      ],
      "execution_count": null,
      "outputs": []
    },
    {
      "cell_type": "code",
      "metadata": {
        "id": "gL2GP3a65Gos"
      },
      "source": [
        "# Basic for loop with break\r\n",
        "friends = ['Aykee', 'Daryll', 'Drixter', 'Iñaki', 'Alyana', 'Humbert']\r\n",
        "for kaibigan in friends:\r\n",
        "  if kaibigan == 'Iñaki':\r\n",
        "    continue\r\n",
        "  print('Kunai ', kaibigan)"
      ],
      "execution_count": null,
      "outputs": []
    },
    {
      "cell_type": "code",
      "metadata": {
        "id": "lvF0KPXcIxE5"
      },
      "source": [
        "# for loop in string\r\n",
        "for letter in '国境地帯のドリクスタ':\r\n",
        "  print (letter)"
      ],
      "execution_count": null,
      "outputs": []
    },
    {
      "cell_type": "code",
      "metadata": {
        "id": "FmHqASFFIzVM"
      },
      "source": [
        "# range function\r\n",
        "''' \r\n",
        "in between values from first argument to  last argument\r\n",
        "'''\r\n",
        "for x in range(10, 15):\r\n",
        "  print(x)"
      ],
      "execution_count": null,
      "outputs": []
    },
    {
      "cell_type": "markdown",
      "metadata": {
        "id": "c0N_szfGJX37"
      },
      "source": [
        "## Flow Control\r\n",
        "---\r\n",
        "* Flow controls in Python are the same in other programming language they are if, elif ( else if ), and else, just like looping statement they don't use cury braces but spaces to indicate that the code is inside the conditional statement."
      ]
    },
    {
      "cell_type": "markdown",
      "metadata": {
        "id": "bktwd_2tLxen"
      },
      "source": [
        "### Condition Statements"
      ]
    },
    {
      "cell_type": "code",
      "metadata": {
        "id": "j7knc0-z2hWB",
        "colab": {
          "base_uri": "https://localhost:8080/",
          "height": 35
        },
        "outputId": "cf069ef2-c007-45f5-bf83-a0cd28164e90"
      },
      "source": [
        "'''\r\n",
        "These block of code is based on Programiz and was modified by 国境地帯のドリクスタ.\r\n",
        "'''"
      ],
      "execution_count": null,
      "outputs": [
        {
          "output_type": "execute_result",
          "data": {
            "application/vnd.google.colaboratory.intrinsic+json": {
              "type": "string"
            },
            "text/plain": [
              "'\\nThese block of code is based on Programiz and was modified by 国境地帯のドリクスタ.\\n'"
            ]
          },
          "metadata": {
            "tags": []
          },
          "execution_count": 3
        }
      ]
    },
    {
      "cell_type": "code",
      "metadata": {
        "id": "hA11LvYIJmG9"
      },
      "source": [
        "# if and else statement\r\n",
        "a = 15\r\n",
        "b = 20\r\n",
        "if b < a:\r\n",
        "  print('True for if')\r\n",
        "\r\n",
        "'''\r\n",
        "else can be used without elif\r\n",
        "else is the default if IF statement is false\r\n",
        "'''\r\n",
        "\r\n",
        "else:\r\n",
        "  print ('False for else')"
      ],
      "execution_count": null,
      "outputs": []
    },
    {
      "cell_type": "code",
      "metadata": {
        "id": "DpQ-N6H5DEqJ"
      },
      "source": [
        "# elif statement\r\n",
        "'''\r\n",
        "elif -- means else if, a statement used to check expression specifically\r\n",
        "'''\r\n",
        "n = 14\r\n",
        "if n > 14:\r\n",
        "  print ('Bigger than 14')\r\n",
        "elif n == 14:\r\n",
        "  print ('This is number 14')\r\n",
        "else:\r\n",
        "  print ('Lower than 14')"
      ],
      "execution_count": null,
      "outputs": []
    },
    {
      "cell_type": "code",
      "metadata": {
        "id": "xEA4UQikDGKN"
      },
      "source": [
        "# sample program\r\n",
        "s = float(input(\"Enter score: \"))\r\n",
        "if s > 1:\r\n",
        "    print('Error')\r\n",
        "elif s >= 0.9:\r\n",
        "    print('A')\r\n",
        "elif s >= 0.8:\r\n",
        "    print('B')\r\n",
        "elif s >= 0.7:\r\n",
        "    print('C')\r\n",
        "elif s >= 0.6:\r\n",
        "    print('D')\r\n",
        "else:\r\n",
        "  print ('F')"
      ],
      "execution_count": null,
      "outputs": []
    },
    {
      "cell_type": "code",
      "metadata": {
        "id": "8cauAXQfDHjP"
      },
      "source": [
        "# nested if elif else program\r\n",
        "s = float(input('Enter number: '))\r\n",
        "if s < 1000:\r\n",
        "  if s > 500:\r\n",
        "    print('Less than 1000')\r\n",
        "  elif s == 250:\r\n",
        "    print ('This is 250')\r\n",
        "  else:\r\n",
        "    print('Less than 500')\r\n",
        "else:\r\n",
        "  print('Greater than 1000')"
      ],
      "execution_count": null,
      "outputs": []
    },
    {
      "cell_type": "markdown",
      "metadata": {
        "id": "jeT5iasgJgGD"
      },
      "source": [
        "## Functions\r\n",
        "---"
      ]
    },
    {
      "cell_type": "code",
      "metadata": {
        "id": "U1F0ClHUnMpB",
        "colab": {
          "base_uri": "https://localhost:8080/"
        },
        "outputId": "45a4ad3f-ab79-4dee-9f23-96157b42a326"
      },
      "source": [
        "'''\r\n",
        "The block of code is inspired on Programiz and was modified by 国境地帯のドリクスタ.\r\n",
        "The translation of Morse Code is from Electronic Notes\r\n",
        "'''\r\n",
        "# A dictionary containing the translations of Morse Code\r\n",
        "morseCodeTranslation = {'A': '.-', 'B': '-...', 'C': '-.-.',\r\n",
        "                   'D': '-..', 'E': '.',\r\n",
        "                   'F': '..-.', 'G': '--.', 'H': '....',\r\n",
        "                   'I': '..', 'J': '.---', 'K': '-.-',\r\n",
        "                   'L': '.-..', 'M': '--', 'N': '-.',\r\n",
        "                   'O': '---', 'P': '.--.', 'Q': '--.-',\r\n",
        "                   'R': '.-.', 'S': '...', 'T': '-',\r\n",
        "                   'U': '..-', 'V': '...-', 'W': '.--',\r\n",
        "                   'X': '-..-', 'Y': '-.--', 'Z': '--..',\r\n",
        "                   '1': '.----', '2': '..---', '3': '...--',\r\n",
        "                   '4': '....-', '5': '.....', '6': '-....',\r\n",
        "                   '7': '--...', '8': '---..', '9': '----.',\r\n",
        "                   '0': '-----', ', ': '--..--', '.': '.-.-.-',\r\n",
        "                   '?': '..--..', '/': '-..-.', '-': '-....-',\r\n",
        "                   '(': '-.--.', ')': '-.--.-'}\r\n",
        "\r\n",
        "# A function that converts the Original Message from Morse Code to Alphanumeric Characters\r\n",
        "def transformToText(originalMessageInMorseCode):\r\n",
        "    originalMessageInMorseCode += ' '\r\n",
        "    transformToText = ''\r\n",
        "    whiteSpace = ''\r\n",
        "    for letter in originalMessageInMorseCode:\r\n",
        "        if (letter != ' '):\r\n",
        "            i = 0\r\n",
        "            whiteSpace += letter\r\n",
        "        else:\r\n",
        "            i += 1\r\n",
        "            if i == 2:\r\n",
        "                transformToText += ' '\r\n",
        "            else:\r\n",
        "                transformToText += list(morseCodeTranslation.keys())[list(morseCodeTranslation.values()).index(whiteSpace)]\r\n",
        "                whiteSpace = ''\r\n",
        "    return transformToText\r\n",
        "\r\n",
        "# The Code Block Below is used to execute the function above\r\n",
        "# cont is used for the looping statement\r\n",
        "cont = \"1\"\r\n",
        "while cont == \"1\":\r\n",
        "    originalMessageInMorseCode = input(\"Insert Code Here: \")\r\n",
        "    result = transformToText(originalMessageInMorseCode)\r\n",
        "    result.upper()\r\n",
        "    print(result)\r\n",
        "    choice = input(\"Decrypt More Statements? \\n[0] No \\n[1] Yes \\nChoice: \")\r\n",
        "    if choice == \"0\":\r\n",
        "        cont = \"0\"\r\n",
        "    elif choice == \"1\":\r\n",
        "        cont = \"1\"\r\n",
        "    else:\r\n",
        "        print(\"Invalid Option\")"
      ],
      "execution_count": null,
      "outputs": [
        {
          "output_type": "stream",
          "text": [
            "Insert Code Here: .--\n",
            "W\n",
            "Decrypt More Statements? \n",
            "[0] No \n",
            "[1] Yes \n",
            "Choice: 0\n"
          ],
          "name": "stdout"
        }
      ]
    },
    {
      "cell_type": "markdown",
      "metadata": {
        "id": "exl1_GhYL0wv"
      },
      "source": [
        "### Lambda Functions\r\n",
        "* A lambda function can take any number of arguments, but can only have one expression.\r\n"
      ]
    },
    {
      "cell_type": "code",
      "metadata": {
        "id": "FkKsPiDPJqg8"
      },
      "source": [
        "# Imports the random module\r\n",
        "import random\r\n",
        "\r\n",
        "# Calculates the square of a random number\r\n",
        "square = lambda x: x ** 2\r\n",
        "number1 = (random.randint(0,10))\r\n",
        "print(number1)\r\n",
        "print(square(number1))\r\n",
        "\r\n",
        "# Calculates the cube of a random number\r\n",
        "cube = lambda x: x ** 3\r\n",
        "number2 = (random.randint(0,10))\r\n",
        "print(number2)\r\n",
        "print(square(number2))\r\n"
      ],
      "execution_count": null,
      "outputs": []
    },
    {
      "cell_type": "markdown",
      "metadata": {
        "id": "8IhNAO4JIgtW"
      },
      "source": [
        "## Grade calculator"
      ]
    },
    {
      "cell_type": "code",
      "metadata": {
        "id": "lcdJz4BQJxOy"
      },
      "source": [
        "'''\r\n",
        "Create a grade calculator that computes for the semestral grade of a course.\r\n",
        "Students could type their names, the name of the course, then their prelim,\r\n",
        "midterm, and final grade.\r\n",
        "The program should print the semestral grade in 2 decimal points and should\r\n",
        "display the following emojis depending on the situation:\r\n",
        "happy - when grade is greater than 70.00\r\n",
        "laughing - when grade is exactly 70.00\r\n",
        "sad - when grade is below 70.00\r\n",
        "'''\r\n",
        "happy, lol, sad = \"\\U0001F600\",\"\\U0001F923\",\"\\U0001F619\""
      ],
      "execution_count": null,
      "outputs": []
    },
    {
      "cell_type": "code",
      "metadata": {
        "id": "TQU3GoWEgUHt"
      },
      "source": [
        "# Grade calculator code\r\n",
        "\r\n",
        "student_name= input(\"Student Name: \")\r\n",
        "course= input(\"Course: \")\r\n",
        "\r\n",
        "# Function of validating the input number \r\n",
        "def validation(): \r\n",
        "  while True:\r\n",
        "     grade = float(input(\"Grade: \"))\r\n",
        "     if (grade >=101): # Validate if the number is greater or equal to 101\r\n",
        "      print(\"Input number less than 101..\")\r\n",
        "     else:\r\n",
        "      return grade # return number to the variabe\r\n",
        "  \r\n",
        "# Validation if the input is float\r\n",
        "while True: \r\n",
        "  try: # run the validation function in Prelim input\r\n",
        "    print(\"Prelims\")\r\n",
        "    prelim_grade= validation()\r\n",
        "    break \r\n",
        "  except ValueError: # Display if the input is not float\r\n",
        "    print(\"Invalid input!\")\r\n",
        "\r\n",
        "while True:\r\n",
        "  try: \r\n",
        "    print(\"Midterm\")\r\n",
        "    midterm_grade= validation()\r\n",
        "    break\r\n",
        "  except ValueError: \r\n",
        "    print(\"Invalid input!\") \r\n",
        "\r\n",
        "while True:\r\n",
        "  try:\r\n",
        "    print(\"Finals\")\r\n",
        "    final_grade= validation()\r\n",
        "    break\r\n",
        "  except ValueError:\r\n",
        "    print(\"Invalid input!\")\r\n",
        "\r\n",
        "# Computation of Semestral Grade\r\n",
        "semestral_grade = float((prelim_grade*0.3)+(midterm_grade*0.3)+(final_grade*0.4)) \r\n",
        "\r\n",
        "# Condition equivalent emojis of Semestral Grade\r\n",
        "if (semestral_grade > 70): \r\n",
        "  equivalent = \"\\U0001F606\"\r\n",
        "elif (semestral_grade == 70):\r\n",
        "  equivalent =\"\\U0001F923\"\r\n",
        "else:\r\n",
        "  equivalent = \"\\U0001F631\"\r\n",
        "\r\n",
        "print(\"{} Semestral Grade is: {:.2f} {}\".format(student_name,semestral_grade,equivalent))"
      ],
      "execution_count": null,
      "outputs": []
    },
    {
      "cell_type": "markdown",
      "metadata": {
        "id": "TRVMLFgxqiqv"
      },
      "source": [
        "# References\r\n",
        "[1] Programiz (2021). *Python Input, Output and Import*. Available: [[Python I/O]](https://www.programiz.com/python-programming/input-output-import) (Date Access 6-February-2021)<br>\r\n",
        "[2] W3 Schools (2021). *Python While Loops*. Available: [[Python While Loops]](https://www.w3schools.com/python/python_while_loops.asp) (Date Access 6-February-2021) <br>\r\n",
        "[3] Tutorialpoints (2021). *Python - Variable Types*. Available: [[Variable Types]](https://www.tutorialspoint.com/python/python_variable_types.htm) (Date Access 6-February-2021) <br>\r\n",
        "[4] Tutorialpoints (2021). *Python - Basic Operators*. Available: [[Basic Operators]](https://www.tutorialspoint.com/python/python_basic_operators.htm) (Date Access 6-February-2021) <br>\r\n",
        "[5] Programiz (2021). *Python if...else Statement*. Available: [[Python if...else Statement]](https://www.programiz.com/python-programming/if-elif-else) (Date Access 6-February-2021) <br>\r\n",
        "[6] Electronics Notes (n.d.). Morse Code Chart / Table. [[Morse Code]](https://www.electronics-notes.com/articles/ham_radio/morse_code/characters-table-chart.php\r\n",
        ") (Date Access 6-February-2021) <br> \r\n",
        "[7] Programiz (n.d.). Python String translate() \r\n",
        ". [[Python String translate()]](https://www.programiz.com/python-programming/methods/string/translate#:~:text=Join-,Python%20String%20translate(),as%20per%20the%20mapping%20table.\r\n",
        ") (Date Access 6-February-2021) <br> \r\n",
        "\r\n",
        "\r\n",
        "\r\n"
      ]
    }
  ]
}